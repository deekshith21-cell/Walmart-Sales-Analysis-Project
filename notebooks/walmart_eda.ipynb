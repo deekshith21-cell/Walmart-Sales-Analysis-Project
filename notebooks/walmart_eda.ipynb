{
 "cells": [
  {
   "cell_type": "code",
   "execution_count": null,
   "id": "db0be4d3",
   "metadata": {},
   "outputs": [],
   "source": [
    "\n",
    "import pandas as pd\n",
    "import matplotlib.pyplot as plt\n",
    "import seaborn as sns\n",
    "from sqlalchemy import create_engine\n"
   ]
  },
  {
   "cell_type": "code",
   "execution_count": null,
   "id": "e1c63ad9",
   "metadata": {},
   "outputs": [],
   "source": [
    "\n",
    "# Replace with your own MySQL credentials\n",
    "username = 'root'\n",
    "password = 'your_mysql_password'\n",
    "host = 'localhost'\n",
    "database = 'walmart_db'\n",
    "\n",
    "# Create SQLAlchemy connection\n",
    "engine = create_engine(f'mysql+pymysql://{username}:{password}@{host}/{database}')\n"
   ]
  },
  {
   "cell_type": "code",
   "execution_count": null,
   "id": "712886ad",
   "metadata": {},
   "outputs": [],
   "source": [
    "\n",
    "query = \"SELECT * FROM walmart_sales_data\"\n",
    "df = pd.read_sql(query, engine)\n",
    "df.head()\n"
   ]
  },
  {
   "cell_type": "code",
   "execution_count": null,
   "id": "43cad3d9",
   "metadata": {},
   "outputs": [],
   "source": [
    "\n",
    "df['Date'] = pd.to_datetime(df['Date'])\n",
    "df = df.sort_values('Date')\n",
    "df['Year'] = df['Date'].dt.year\n",
    "df['Month'] = df['Date'].dt.month\n"
   ]
  },
  {
   "cell_type": "code",
   "execution_count": null,
   "id": "7f6325b5",
   "metadata": {},
   "outputs": [],
   "source": [
    "df.describe()"
   ]
  },
  {
   "cell_type": "code",
   "execution_count": null,
   "id": "633f9aec",
   "metadata": {},
   "outputs": [],
   "source": [
    "\n",
    "plt.figure(figsize=(10,5))\n",
    "sns.barplot(data=df.groupby('Store')['Weekly_Sales'].sum().reset_index(),\n",
    "            x='Store', y='Weekly_Sales', palette='viridis')\n",
    "plt.title(\"Total Sales per Store\")\n",
    "plt.xticks(rotation=90)\n",
    "plt.tight_layout()\n",
    "plt.show()\n"
   ]
  },
  {
   "cell_type": "code",
   "execution_count": null,
   "id": "158c2e29",
   "metadata": {},
   "outputs": [],
   "source": [
    "\n",
    "plt.figure(figsize=(6,4))\n",
    "sns.boxplot(data=df, x='Holiday_Flag', y='Weekly_Sales')\n",
    "plt.title(\"Sales Distribution - Holiday vs Non-Holiday\")\n",
    "plt.xticks([0,1], ['Non-Holiday', 'Holiday'])\n",
    "plt.tight_layout()\n",
    "plt.show()\n"
   ]
  },
  {
   "cell_type": "code",
   "execution_count": null,
   "id": "42535a13",
   "metadata": {},
   "outputs": [],
   "source": [
    "\n",
    "plt.figure(figsize=(12,6))\n",
    "df.groupby('Date')['Weekly_Sales'].sum().plot()\n",
    "plt.title(\"Weekly Sales Over Time\")\n",
    "plt.xlabel(\"Date\")\n",
    "plt.ylabel(\"Sales\")\n",
    "plt.tight_layout()\n",
    "plt.show()\n"
   ]
  },
  {
   "cell_type": "code",
   "execution_count": null,
   "id": "73e8dd06",
   "metadata": {},
   "outputs": [],
   "source": [
    "\n",
    "plt.figure(figsize=(8,6))\n",
    "sns.heatmap(df[['Weekly_Sales','Temperature','Fuel_Price','CPI','Unemployment']].corr(), annot=True, cmap='coolwarm')\n",
    "plt.title(\"Correlation Heatmap\")\n",
    "plt.tight_layout()\n",
    "plt.show()\n"
   ]
  }
 ],
 "metadata": {},
 "nbformat": 4,
 "nbformat_minor": 5
}
